{
 "cells": [
  {
   "cell_type": "markdown",
   "id": "curious-dynamics",
   "metadata": {
    "papermill": {
     "duration": 0.014883,
     "end_time": "2021-05-12T08:17:04.446205",
     "exception": false,
     "start_time": "2021-05-12T08:17:04.431322",
     "status": "completed"
    },
    "tags": []
   },
   "source": [
    "Using Linear Regression to predict dependant vaiable, Salaries, based on independant variable, Years of Experience. My first Machine Learning project."
   ]
  },
  {
   "cell_type": "code",
   "execution_count": 1,
   "id": "dried-baltimore",
   "metadata": {
    "execution": {
     "iopub.execute_input": "2021-05-12T08:17:04.480347Z",
     "iopub.status.busy": "2021-05-12T08:17:04.479564Z",
     "iopub.status.idle": "2021-05-12T08:17:05.756647Z",
     "shell.execute_reply": "2021-05-12T08:17:05.755981Z"
    },
    "papermill": {
     "duration": 1.297585,
     "end_time": "2021-05-12T08:17:05.756843",
     "exception": false,
     "start_time": "2021-05-12T08:17:04.459258",
     "status": "completed"
    },
    "tags": []
   },
   "outputs": [],
   "source": [
    "#Imported Libraries\n",
    "\n",
    "import numpy as np\n",
    "import pandas as pd\n",
    "import seaborn as sb\n",
    "import matplotlib.pyplot as plt\n",
    "from sklearn.linear_model import LinearRegression\n",
    "%matplotlib inline"
   ]
  },
  {
   "cell_type": "code",
   "execution_count": 2,
   "id": "intense-phoenix",
   "metadata": {
    "execution": {
     "iopub.execute_input": "2021-05-12T08:17:05.787289Z",
     "iopub.status.busy": "2021-05-12T08:17:05.786617Z",
     "iopub.status.idle": "2021-05-12T08:17:05.810578Z",
     "shell.execute_reply": "2021-05-12T08:17:05.809975Z"
    },
    "papermill": {
     "duration": 0.040031,
     "end_time": "2021-05-12T08:17:05.810725",
     "exception": false,
     "start_time": "2021-05-12T08:17:05.770694",
     "status": "completed"
    },
    "tags": []
   },
   "outputs": [],
   "source": [
    "#Importing the dataset\n",
    "\n",
    "df = pd.read_csv('/kaggle/input/salary/Salary.csv')"
   ]
  },
  {
   "cell_type": "code",
   "execution_count": 3,
   "id": "scientific-shareware",
   "metadata": {
    "execution": {
     "iopub.execute_input": "2021-05-12T08:17:05.850425Z",
     "iopub.status.busy": "2021-05-12T08:17:05.849712Z",
     "iopub.status.idle": "2021-05-12T08:17:05.871619Z",
     "shell.execute_reply": "2021-05-12T08:17:05.872212Z"
    },
    "papermill": {
     "duration": 0.047995,
     "end_time": "2021-05-12T08:17:05.872405",
     "exception": false,
     "start_time": "2021-05-12T08:17:05.824410",
     "status": "completed"
    },
    "tags": []
   },
   "outputs": [
    {
     "data": {
      "text/html": [
       "<div>\n",
       "<style scoped>\n",
       "    .dataframe tbody tr th:only-of-type {\n",
       "        vertical-align: middle;\n",
       "    }\n",
       "\n",
       "    .dataframe tbody tr th {\n",
       "        vertical-align: top;\n",
       "    }\n",
       "\n",
       "    .dataframe thead th {\n",
       "        text-align: right;\n",
       "    }\n",
       "</style>\n",
       "<table border=\"1\" class=\"dataframe\">\n",
       "  <thead>\n",
       "    <tr style=\"text-align: right;\">\n",
       "      <th></th>\n",
       "      <th>YearsExperience</th>\n",
       "      <th>Salary</th>\n",
       "    </tr>\n",
       "  </thead>\n",
       "  <tbody>\n",
       "    <tr>\n",
       "      <th>0</th>\n",
       "      <td>1.1</td>\n",
       "      <td>39343</td>\n",
       "    </tr>\n",
       "    <tr>\n",
       "      <th>1</th>\n",
       "      <td>1.3</td>\n",
       "      <td>46205</td>\n",
       "    </tr>\n",
       "    <tr>\n",
       "      <th>2</th>\n",
       "      <td>1.5</td>\n",
       "      <td>37731</td>\n",
       "    </tr>\n",
       "    <tr>\n",
       "      <th>3</th>\n",
       "      <td>2.0</td>\n",
       "      <td>43525</td>\n",
       "    </tr>\n",
       "    <tr>\n",
       "      <th>4</th>\n",
       "      <td>2.2</td>\n",
       "      <td>39891</td>\n",
       "    </tr>\n",
       "  </tbody>\n",
       "</table>\n",
       "</div>"
      ],
      "text/plain": [
       "   YearsExperience  Salary\n",
       "0              1.1   39343\n",
       "1              1.3   46205\n",
       "2              1.5   37731\n",
       "3              2.0   43525\n",
       "4              2.2   39891"
      ]
     },
     "execution_count": 3,
     "metadata": {},
     "output_type": "execute_result"
    }
   ],
   "source": [
    "df.head()"
   ]
  },
  {
   "cell_type": "code",
   "execution_count": 4,
   "id": "current-founder",
   "metadata": {
    "execution": {
     "iopub.execute_input": "2021-05-12T08:17:05.905763Z",
     "iopub.status.busy": "2021-05-12T08:17:05.905076Z",
     "iopub.status.idle": "2021-05-12T08:17:05.913375Z",
     "shell.execute_reply": "2021-05-12T08:17:05.912765Z"
    },
    "papermill": {
     "duration": 0.025594,
     "end_time": "2021-05-12T08:17:05.913512",
     "exception": false,
     "start_time": "2021-05-12T08:17:05.887918",
     "status": "completed"
    },
    "tags": []
   },
   "outputs": [
    {
     "data": {
      "text/plain": [
       "YearsExperience    False\n",
       "Salary             False\n",
       "dtype: bool"
      ]
     },
     "execution_count": 4,
     "metadata": {},
     "output_type": "execute_result"
    }
   ],
   "source": [
    "#Checking for any null values\n",
    "\n",
    "df.isnull().any()"
   ]
  },
  {
   "cell_type": "code",
   "execution_count": 5,
   "id": "plain-connection",
   "metadata": {
    "execution": {
     "iopub.execute_input": "2021-05-12T08:17:05.964771Z",
     "iopub.status.busy": "2021-05-12T08:17:05.964001Z",
     "iopub.status.idle": "2021-05-12T08:17:06.139567Z",
     "shell.execute_reply": "2021-05-12T08:17:06.139014Z"
    },
    "papermill": {
     "duration": 0.211259,
     "end_time": "2021-05-12T08:17:06.139704",
     "exception": false,
     "start_time": "2021-05-12T08:17:05.928445",
     "status": "completed"
    },
    "tags": []
   },
   "outputs": [
    {
     "data": {
      "text/plain": [
       "<matplotlib.collections.PathCollection at 0x7f266d3f1f90>"
      ]
     },
     "execution_count": 5,
     "metadata": {},
     "output_type": "execute_result"
    },
    {
     "data": {
      "image/png": "[encoded data removed]",
      "text/plain": [
       "<Figure size 432x288 with 1 Axes>"
      ]
     },
     "metadata": {
      "needs_background": "light"
     },
     "output_type": "display_data"
    }
   ],
   "source": [
    "#Rlationship between Years of Experience and Salary\n",
    "\n",
    "plt.scatter(df['YearsExperience'] , df['Salary'] , color = '#800000')"
   ]
  },
  {
   "cell_type": "code",
   "execution_count": 6,
   "id": "supreme-withdrawal",
   "metadata": {
    "execution": {
     "iopub.execute_input": "2021-05-12T08:17:06.178067Z",
     "iopub.status.busy": "2021-05-12T08:17:06.177394Z",
     "iopub.status.idle": "2021-05-12T08:17:06.180197Z",
     "shell.execute_reply": "2021-05-12T08:17:06.180666Z"
    },
    "papermill": {
     "duration": 0.025618,
     "end_time": "2021-05-12T08:17:06.180853",
     "exception": false,
     "start_time": "2021-05-12T08:17:06.155235",
     "status": "completed"
    },
    "tags": []
   },
   "outputs": [],
   "source": [
    "#Setting dependant and independant variables\n",
    "\n",
    "X = df.iloc[:,:-1].values\n",
    "y = df.iloc[:,-1].values"
   ]
  },
  {
   "cell_type": "code",
   "execution_count": 7,
   "id": "educational-howard",
   "metadata": {
    "execution": {
     "iopub.execute_input": "2021-05-12T08:17:06.218379Z",
     "iopub.status.busy": "2021-05-12T08:17:06.217404Z",
     "iopub.status.idle": "2021-05-12T08:17:06.221350Z",
     "shell.execute_reply": "2021-05-12T08:17:06.221802Z"
    },
    "papermill": {
     "duration": 0.025673,
     "end_time": "2021-05-12T08:17:06.221983",
     "exception": false,
     "start_time": "2021-05-12T08:17:06.196310",
     "status": "completed"
    },
    "tags": []
   },
   "outputs": [
    {
     "data": {
      "text/plain": [
       "array([[ 1.1],\n",
       "       [ 1.3],\n",
       "       [ 1.5],\n",
       "       [ 2. ],\n",
       "       [ 2.2],\n",
       "       [ 2.9],\n",
       "       [ 3. ],\n",
       "       [ 3.2],\n",
       "       [ 3.2],\n",
       "       [ 3.7],\n",
       "       [ 3.9],\n",
       "       [ 4. ],\n",
       "       [ 4. ],\n",
       "       [ 4.1],\n",
       "       [ 4.5],\n",
       "       [ 4.9],\n",
       "       [ 5.1],\n",
       "       [ 5.3],\n",
       "       [ 5.9],\n",
       "       [ 6. ],\n",
       "       [ 6.8],\n",
       "       [ 7.1],\n",
       "       [ 7.9],\n",
       "       [ 8.2],\n",
       "       [ 8.7],\n",
       "       [ 9. ],\n",
       "       [ 9.5],\n",
       "       [ 9.6],\n",
       "       [10.3],\n",
       "       [10.5],\n",
       "       [11.2],\n",
       "       [11.5],\n",
       "       [12.3],\n",
       "       [12.9],\n",
       "       [13.5]])"
      ]
     },
     "execution_count": 7,
     "metadata": {},
     "output_type": "execute_result"
    }
   ],
   "source": [
    "X"
   ]
  },
  {
   "cell_type": "code",
   "execution_count": 8,
   "id": "union-bidder",
   "metadata": {
    "execution": {
     "iopub.execute_input": "2021-05-12T08:17:06.259286Z",
     "iopub.status.busy": "2021-05-12T08:17:06.258331Z",
     "iopub.status.idle": "2021-05-12T08:17:06.263451Z",
     "shell.execute_reply": "2021-05-12T08:17:06.262934Z"
    },
    "papermill": {
     "duration": 0.025646,
     "end_time": "2021-05-12T08:17:06.263580",
     "exception": false,
     "start_time": "2021-05-12T08:17:06.237934",
     "status": "completed"
    },
    "tags": []
   },
   "outputs": [
    {
     "data": {
      "text/plain": [
       "array([ 39343,  46205,  37731,  43525,  39891,  56642,  60150,  54445,\n",
       "        64445,  57189,  63218,  55794,  56957,  57081,  61111,  67938,\n",
       "        66029,  83088,  81363,  93940,  91738,  98273, 101302, 113812,\n",
       "       109431, 105582, 116969, 112635, 122391, 121872, 127345, 126756,\n",
       "       128765, 135675, 139465])"
      ]
     },
     "execution_count": 8,
     "metadata": {},
     "output_type": "execute_result"
    }
   ],
   "source": [
    "y"
   ]
  },
  {
   "cell_type": "code",
   "execution_count": 9,
   "id": "chubby-phenomenon",
   "metadata": {
    "execution": {
     "iopub.execute_input": "2021-05-12T08:17:06.318109Z",
     "iopub.status.busy": "2021-05-12T08:17:06.317378Z",
     "iopub.status.idle": "2021-05-12T08:17:06.323792Z",
     "shell.execute_reply": "2021-05-12T08:17:06.323151Z"
    },
    "papermill": {
     "duration": 0.043807,
     "end_time": "2021-05-12T08:17:06.323930",
     "exception": false,
     "start_time": "2021-05-12T08:17:06.280123",
     "status": "completed"
    },
    "tags": []
   },
   "outputs": [
    {
     "data": {
      "text/plain": [
       "LinearRegression()"
      ]
     },
     "execution_count": 9,
     "metadata": {},
     "output_type": "execute_result"
    }
   ],
   "source": [
    "#Training model\n",
    "\n",
    "from sklearn.model_selection import train_test_split\n",
    "X_train, X_test, y_train, y_test = train_test_split(X, y, test_size = 0.3, random_state = 0)\n",
    "\n",
    "model = LinearRegression()\n",
    "model.fit(X_train, y_train)"
   ]
  },
  {
   "cell_type": "code",
   "execution_count": 10,
   "id": "prepared-uzbekistan",
   "metadata": {
    "execution": {
     "iopub.execute_input": "2021-05-12T08:17:06.363211Z",
     "iopub.status.busy": "2021-05-12T08:17:06.362372Z",
     "iopub.status.idle": "2021-05-12T08:17:06.365420Z",
     "shell.execute_reply": "2021-05-12T08:17:06.364908Z"
    },
    "papermill": {
     "duration": 0.024551,
     "end_time": "2021-05-12T08:17:06.365564",
     "exception": false,
     "start_time": "2021-05-12T08:17:06.341013",
     "status": "completed"
    },
    "tags": []
   },
   "outputs": [],
   "source": [
    "#Estimating Salaries \n",
    "\n",
    "predictions = model.predict(X_test)"
   ]
  },
  {
   "cell_type": "code",
   "execution_count": 11,
   "id": "assisted-buffalo",
   "metadata": {
    "execution": {
     "iopub.execute_input": "2021-05-12T08:17:06.405415Z",
     "iopub.status.busy": "2021-05-12T08:17:06.404423Z",
     "iopub.status.idle": "2021-05-12T08:17:06.408856Z",
     "shell.execute_reply": "2021-05-12T08:17:06.408324Z"
    },
    "papermill": {
     "duration": 0.026362,
     "end_time": "2021-05-12T08:17:06.409008",
     "exception": false,
     "start_time": "2021-05-12T08:17:06.382646",
     "status": "completed"
    },
    "tags": []
   },
   "outputs": [
    {
     "data": {
      "text/plain": [
       "array([120197.8256403 ,  88644.21802942,  74146.61453254, 118492.2252289 ,\n",
       "        98025.02029212,  72441.01412114,  63913.01206415,  43445.80712736,\n",
       "        64765.81226984, 112522.623789  , 107405.82255481])"
      ]
     },
     "execution_count": 11,
     "metadata": {},
     "output_type": "execute_result"
    }
   ],
   "source": [
    "#Checking Estimated Salaries\n",
    "\n",
    "predictions"
   ]
  },
  {
   "cell_type": "code",
   "execution_count": 12,
   "id": "constant-yellow",
   "metadata": {
    "execution": {
     "iopub.execute_input": "2021-05-12T08:17:06.449516Z",
     "iopub.status.busy": "2021-05-12T08:17:06.448449Z",
     "iopub.status.idle": "2021-05-12T08:17:06.452711Z",
     "shell.execute_reply": "2021-05-12T08:17:06.452195Z"
    },
    "papermill": {
     "duration": 0.026347,
     "end_time": "2021-05-12T08:17:06.452885",
     "exception": false,
     "start_time": "2021-05-12T08:17:06.426538",
     "status": "completed"
    },
    "tags": []
   },
   "outputs": [
    {
     "data": {
      "text/plain": [
       "array([121872,  91738,  66029, 122391, 101302,  67938,  63218,  37731,\n",
       "        55794, 112635, 105582])"
      ]
     },
     "execution_count": 12,
     "metadata": {},
     "output_type": "execute_result"
    }
   ],
   "source": [
    "#Checking Actual Salaries\n",
    "\n",
    "y_test"
   ]
  },
  {
   "cell_type": "code",
   "execution_count": 13,
   "id": "simple-terror",
   "metadata": {
    "execution": {
     "iopub.execute_input": "2021-05-12T08:17:06.495013Z",
     "iopub.status.busy": "2021-05-12T08:17:06.494079Z",
     "iopub.status.idle": "2021-05-12T08:17:06.498064Z",
     "shell.execute_reply": "2021-05-12T08:17:06.498512Z"
    },
    "papermill": {
     "duration": 0.027804,
     "end_time": "2021-05-12T08:17:06.498681",
     "exception": false,
     "start_time": "2021-05-12T08:17:06.470877",
     "status": "completed"
    },
    "tags": []
   },
   "outputs": [
    {
     "data": {
      "text/plain": [
       "array([ 1674.1743597 ,  3093.78197058, -8117.61453254,  3898.7747711 ,\n",
       "        3276.97970788, -4503.01412114,  -695.01206415, -5714.80712736,\n",
       "       -8971.81226984,   112.376211  , -1823.82255481])"
      ]
     },
     "execution_count": 13,
     "metadata": {},
     "output_type": "execute_result"
    }
   ],
   "source": [
    "#Checking error, difference between actual salaries and estimated slaries.\n",
    "\n",
    "error = y_test - predictions\n",
    "error"
   ]
  },
  {
   "cell_type": "code",
   "execution_count": 14,
   "id": "knowing-commerce",
   "metadata": {
    "execution": {
     "iopub.execute_input": "2021-05-12T08:17:06.592413Z",
     "iopub.status.busy": "2021-05-12T08:17:06.591374Z",
     "iopub.status.idle": "2021-05-12T08:17:06.693727Z",
     "shell.execute_reply": "2021-05-12T08:17:06.694244Z"
    },
    "papermill": {
     "duration": 0.1773,
     "end_time": "2021-05-12T08:17:06.694417",
     "exception": false,
     "start_time": "2021-05-12T08:17:06.517117",
     "status": "completed"
    },
    "tags": []
   },
   "outputs": [
    {
     "data": {
      "image/png": "[encoded data removed]",
      "text/plain": [
       "<Figure size 432x288 with 1 Axes>"
      ]
     },
     "metadata": {
      "needs_background": "light"
     },
     "output_type": "display_data"
    }
   ],
   "source": [
    "#Data Visualisation \n",
    "#Training Data\n",
    "\n",
    "plt.scatter(X_train, y_train, color = '#800000')\n",
    "plt.plot(X_train, model.predict(X_train), color = 'Blue')\n",
    "plt.xlabel('Experience in Years')\n",
    "plt.ylabel('Salary')\n",
    "plt.show()"
   ]
  },
  {
   "cell_type": "code",
   "execution_count": 15,
   "id": "interested-purpose",
   "metadata": {
    "execution": {
     "iopub.execute_input": "2021-05-12T08:17:06.762330Z",
     "iopub.status.busy": "2021-05-12T08:17:06.744817Z",
     "iopub.status.idle": "2021-05-12T08:17:06.897674Z",
     "shell.execute_reply": "2021-05-12T08:17:06.898221Z"
    },
    "papermill": {
     "duration": 0.184414,
     "end_time": "2021-05-12T08:17:06.898401",
     "exception": false,
     "start_time": "2021-05-12T08:17:06.713987",
     "status": "completed"
    },
    "tags": []
   },
   "outputs": [
    {
     "data": {
      "image/png": "[encoded data removed]",
      "text/plain": [
       "<Figure size 432x288 with 1 Axes>"
      ]
     },
     "metadata": {
      "needs_background": "light"
     },
     "output_type": "display_data"
    }
   ],
   "source": [
    "#Data Visualisation\n",
    "#Testing Data\n",
    "\n",
    "plt.scatter(X_test, y_test, color = '#800000')\n",
    "plt.plot(X_train, model.predict(X_train), color = 'Blue')\n",
    "plt.xlabel('Experience in Years')\n",
    "plt.ylabel('Salary')\n",
    "plt.show()"
   ]
  },
  {
   "cell_type": "code",
   "execution_count": 16,
   "id": "thorough-watch",
   "metadata": {
    "execution": {
     "iopub.execute_input": "2021-05-12T08:17:06.961638Z",
     "iopub.status.busy": "2021-05-12T08:17:06.960650Z",
     "iopub.status.idle": "2021-05-12T08:17:06.968963Z",
     "shell.execute_reply": "2021-05-12T08:17:06.969783Z"
    },
    "papermill": {
     "duration": 0.041013,
     "end_time": "2021-05-12T08:17:06.970036",
     "exception": false,
     "start_time": "2021-05-12T08:17:06.929023",
     "status": "completed"
    },
    "tags": []
   },
   "outputs": [
    {
     "name": "stdout",
     "output_type": "stream",
     "text": [
      "Coefficient:  [8528.00205699]\n",
      "Intercept:  30653.80404187284\n"
     ]
    }
   ],
   "source": [
    "#Printing Coefficient and Intercept\n",
    "\n",
    "print(\"Coefficient: \", model.coef_)\n",
    "print(\"Intercept: \", model.intercept_)"
   ]
  },
  {
   "cell_type": "code",
   "execution_count": 17,
   "id": "statistical-dancing",
   "metadata": {
    "execution": {
     "iopub.execute_input": "2021-05-12T08:17:07.017967Z",
     "iopub.status.busy": "2021-05-12T08:17:07.017263Z",
     "iopub.status.idle": "2021-05-12T08:17:07.023921Z",
     "shell.execute_reply": "2021-05-12T08:17:07.024585Z"
    },
    "papermill": {
     "duration": 0.031513,
     "end_time": "2021-05-12T08:17:07.024832",
     "exception": false,
     "start_time": "2021-05-12T08:17:06.993319",
     "status": "completed"
    },
    "tags": []
   },
   "outputs": [
    {
     "name": "stdout",
     "output_type": "stream",
     "text": [
      "Accuracy:  0.9714499470616078\n"
     ]
    }
   ],
   "source": [
    "#Getting Accuracy\n",
    "\n",
    "acc = model.score(X_test, y_test)\n",
    "print(\"Accuracy: \", acc)"
   ]
  },
  {
   "cell_type": "markdown",
   "id": "competitive-rugby",
   "metadata": {
    "papermill": {
     "duration": 0.021197,
     "end_time": "2021-05-12T08:17:07.067705",
     "exception": false,
     "start_time": "2021-05-12T08:17:07.046508",
     "status": "completed"
    },
    "tags": []
   },
   "source": [
    "Final Accuracy of the model is 97%"
   ]
  }
 ],
 "metadata": {
  "kernelspec": {
   "display_name": "Python 3",
   "language": "python",
   "name": "python3"
  },
  "language_info": {
   "codemirror_mode": {
    "name": "ipython",
    "version": 3
   },
   "file_extension": ".py",
   "mimetype": "text/x-python",
   "name": "python",
   "nbconvert_exporter": "python",
   "pygments_lexer": "ipython3",
   "version": "3.7.9"
  },
  "papermill": {
   "default_parameters": {},
   "duration": 9.792304,
   "end_time": "2021-05-12T08:17:07.799438",
   "environment_variables": {},
   "exception": null,
   "input_path": "__notebook__.ipynb",
   "output_path": "__notebook__.ipynb",
   "parameters": {},
   "start_time": "2021-05-12T08:16:58.007134",
   "version": "2.3.2"
  }
 },
 "nbformat": 4,
 "nbformat_minor": 5
}
